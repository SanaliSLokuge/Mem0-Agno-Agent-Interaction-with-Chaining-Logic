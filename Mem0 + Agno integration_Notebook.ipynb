{
  "nbformat": 4,
  "nbformat_minor": 0,
  "metadata": {
    "colab": {
      "provenance": []
    },
    "kernelspec": {
      "name": "python3",
      "display_name": "Python 3"
    },
    "language_info": {
      "name": "python"
    }
  },
  "cells": [
    {
      "cell_type": "code",
      "source": [
        "!pip install agno\n",
        "!pip install mem0ai\n",
        "\n",
        "from agno.agent import Agent\n",
        "from mem0 import MemoryClient"
      ],
      "metadata": {
        "colab": {
          "base_uri": "https://localhost:8080/"
        },
        "id": "YTVavrLoERWh",
        "outputId": "37312cba-6665-4f55-b1f4-d6dc7206aa2e"
      },
      "execution_count": 32,
      "outputs": [
        {
          "output_type": "stream",
          "name": "stdout",
          "text": [
            "Requirement already satisfied: agno in /usr/local/lib/python3.11/dist-packages (1.6.0)\n",
            "Requirement already satisfied: docstring-parser in /usr/local/lib/python3.11/dist-packages (from agno) (0.16)\n",
            "Requirement already satisfied: gitpython in /usr/local/lib/python3.11/dist-packages (from agno) (3.1.44)\n",
            "Requirement already satisfied: httpx in /usr/local/lib/python3.11/dist-packages (from agno) (0.28.1)\n",
            "Requirement already satisfied: pydantic-settings in /usr/local/lib/python3.11/dist-packages (from agno) (2.9.1)\n",
            "Requirement already satisfied: pydantic in /usr/local/lib/python3.11/dist-packages (from agno) (2.11.5)\n",
            "Requirement already satisfied: python-dotenv in /usr/local/lib/python3.11/dist-packages (from agno) (1.1.0)\n",
            "Requirement already satisfied: python-multipart in /usr/local/lib/python3.11/dist-packages (from agno) (0.0.20)\n",
            "Requirement already satisfied: pyyaml in /usr/local/lib/python3.11/dist-packages (from agno) (6.0.2)\n",
            "Requirement already satisfied: rich in /usr/local/lib/python3.11/dist-packages (from agno) (13.9.4)\n",
            "Requirement already satisfied: tomli in /usr/local/lib/python3.11/dist-packages (from agno) (2.2.1)\n",
            "Requirement already satisfied: typer in /usr/local/lib/python3.11/dist-packages (from agno) (0.16.0)\n",
            "Requirement already satisfied: typing-extensions in /usr/local/lib/python3.11/dist-packages (from agno) (4.14.0)\n",
            "Requirement already satisfied: gitdb<5,>=4.0.1 in /usr/local/lib/python3.11/dist-packages (from gitpython->agno) (4.0.12)\n",
            "Requirement already satisfied: anyio in /usr/local/lib/python3.11/dist-packages (from httpx->agno) (4.9.0)\n",
            "Requirement already satisfied: certifi in /usr/local/lib/python3.11/dist-packages (from httpx->agno) (2025.4.26)\n",
            "Requirement already satisfied: httpcore==1.* in /usr/local/lib/python3.11/dist-packages (from httpx->agno) (1.0.9)\n",
            "Requirement already satisfied: idna in /usr/local/lib/python3.11/dist-packages (from httpx->agno) (3.10)\n",
            "Requirement already satisfied: h11>=0.16 in /usr/local/lib/python3.11/dist-packages (from httpcore==1.*->httpx->agno) (0.16.0)\n",
            "Requirement already satisfied: annotated-types>=0.6.0 in /usr/local/lib/python3.11/dist-packages (from pydantic->agno) (0.7.0)\n",
            "Requirement already satisfied: pydantic-core==2.33.2 in /usr/local/lib/python3.11/dist-packages (from pydantic->agno) (2.33.2)\n",
            "Requirement already satisfied: typing-inspection>=0.4.0 in /usr/local/lib/python3.11/dist-packages (from pydantic->agno) (0.4.1)\n",
            "Requirement already satisfied: markdown-it-py>=2.2.0 in /usr/local/lib/python3.11/dist-packages (from rich->agno) (3.0.0)\n",
            "Requirement already satisfied: pygments<3.0.0,>=2.13.0 in /usr/local/lib/python3.11/dist-packages (from rich->agno) (2.19.1)\n",
            "Requirement already satisfied: click>=8.0.0 in /usr/local/lib/python3.11/dist-packages (from typer->agno) (8.2.1)\n",
            "Requirement already satisfied: shellingham>=1.3.0 in /usr/local/lib/python3.11/dist-packages (from typer->agno) (1.5.4)\n",
            "Requirement already satisfied: smmap<6,>=3.0.1 in /usr/local/lib/python3.11/dist-packages (from gitdb<5,>=4.0.1->gitpython->agno) (5.0.2)\n",
            "Requirement already satisfied: mdurl~=0.1 in /usr/local/lib/python3.11/dist-packages (from markdown-it-py>=2.2.0->rich->agno) (0.1.2)\n",
            "Requirement already satisfied: sniffio>=1.1 in /usr/local/lib/python3.11/dist-packages (from anyio->httpx->agno) (1.3.1)\n",
            "Requirement already satisfied: mem0ai in /usr/local/lib/python3.11/dist-packages (0.1.107)\n",
            "Requirement already satisfied: openai>=1.33.0 in /usr/local/lib/python3.11/dist-packages (from mem0ai) (1.84.0)\n",
            "Requirement already satisfied: posthog>=3.5.0 in /usr/local/lib/python3.11/dist-packages (from mem0ai) (4.8.0)\n",
            "Requirement already satisfied: pydantic>=2.7.3 in /usr/local/lib/python3.11/dist-packages (from mem0ai) (2.11.5)\n",
            "Requirement already satisfied: pytz>=2024.1 in /usr/local/lib/python3.11/dist-packages (from mem0ai) (2025.2)\n",
            "Requirement already satisfied: qdrant-client>=1.9.1 in /usr/local/lib/python3.11/dist-packages (from mem0ai) (1.14.2)\n",
            "Requirement already satisfied: sqlalchemy>=2.0.31 in /usr/local/lib/python3.11/dist-packages (from mem0ai) (2.0.41)\n",
            "Requirement already satisfied: anyio<5,>=3.5.0 in /usr/local/lib/python3.11/dist-packages (from openai>=1.33.0->mem0ai) (4.9.0)\n",
            "Requirement already satisfied: distro<2,>=1.7.0 in /usr/local/lib/python3.11/dist-packages (from openai>=1.33.0->mem0ai) (1.9.0)\n",
            "Requirement already satisfied: httpx<1,>=0.23.0 in /usr/local/lib/python3.11/dist-packages (from openai>=1.33.0->mem0ai) (0.28.1)\n",
            "Requirement already satisfied: jiter<1,>=0.4.0 in /usr/local/lib/python3.11/dist-packages (from openai>=1.33.0->mem0ai) (0.10.0)\n",
            "Requirement already satisfied: sniffio in /usr/local/lib/python3.11/dist-packages (from openai>=1.33.0->mem0ai) (1.3.1)\n",
            "Requirement already satisfied: tqdm>4 in /usr/local/lib/python3.11/dist-packages (from openai>=1.33.0->mem0ai) (4.67.1)\n",
            "Requirement already satisfied: typing-extensions<5,>=4.11 in /usr/local/lib/python3.11/dist-packages (from openai>=1.33.0->mem0ai) (4.14.0)\n",
            "Requirement already satisfied: requests<3.0,>=2.7 in /usr/local/lib/python3.11/dist-packages (from posthog>=3.5.0->mem0ai) (2.32.3)\n",
            "Requirement already satisfied: six>=1.5 in /usr/local/lib/python3.11/dist-packages (from posthog>=3.5.0->mem0ai) (1.17.0)\n",
            "Requirement already satisfied: python-dateutil>=2.2 in /usr/local/lib/python3.11/dist-packages (from posthog>=3.5.0->mem0ai) (2.9.0.post0)\n",
            "Requirement already satisfied: backoff>=1.10.0 in /usr/local/lib/python3.11/dist-packages (from posthog>=3.5.0->mem0ai) (2.2.1)\n",
            "Requirement already satisfied: annotated-types>=0.6.0 in /usr/local/lib/python3.11/dist-packages (from pydantic>=2.7.3->mem0ai) (0.7.0)\n",
            "Requirement already satisfied: pydantic-core==2.33.2 in /usr/local/lib/python3.11/dist-packages (from pydantic>=2.7.3->mem0ai) (2.33.2)\n",
            "Requirement already satisfied: typing-inspection>=0.4.0 in /usr/local/lib/python3.11/dist-packages (from pydantic>=2.7.3->mem0ai) (0.4.1)\n",
            "Requirement already satisfied: grpcio>=1.41.0 in /usr/local/lib/python3.11/dist-packages (from qdrant-client>=1.9.1->mem0ai) (1.72.1)\n",
            "Requirement already satisfied: numpy>=1.21 in /usr/local/lib/python3.11/dist-packages (from qdrant-client>=1.9.1->mem0ai) (2.0.2)\n",
            "Requirement already satisfied: portalocker<3.0.0,>=2.7.0 in /usr/local/lib/python3.11/dist-packages (from qdrant-client>=1.9.1->mem0ai) (2.10.1)\n",
            "Requirement already satisfied: protobuf>=3.20.0 in /usr/local/lib/python3.11/dist-packages (from qdrant-client>=1.9.1->mem0ai) (5.29.5)\n",
            "Requirement already satisfied: urllib3<3,>=1.26.14 in /usr/local/lib/python3.11/dist-packages (from qdrant-client>=1.9.1->mem0ai) (2.4.0)\n",
            "Requirement already satisfied: greenlet>=1 in /usr/local/lib/python3.11/dist-packages (from sqlalchemy>=2.0.31->mem0ai) (3.2.2)\n",
            "Requirement already satisfied: idna>=2.8 in /usr/local/lib/python3.11/dist-packages (from anyio<5,>=3.5.0->openai>=1.33.0->mem0ai) (3.10)\n",
            "Requirement already satisfied: certifi in /usr/local/lib/python3.11/dist-packages (from httpx<1,>=0.23.0->openai>=1.33.0->mem0ai) (2025.4.26)\n",
            "Requirement already satisfied: httpcore==1.* in /usr/local/lib/python3.11/dist-packages (from httpx<1,>=0.23.0->openai>=1.33.0->mem0ai) (1.0.9)\n",
            "Requirement already satisfied: h11>=0.16 in /usr/local/lib/python3.11/dist-packages (from httpcore==1.*->httpx<1,>=0.23.0->openai>=1.33.0->mem0ai) (0.16.0)\n",
            "Requirement already satisfied: h2<5,>=3 in /usr/local/lib/python3.11/dist-packages (from httpx[http2]>=0.20.0->qdrant-client>=1.9.1->mem0ai) (4.2.0)\n",
            "Requirement already satisfied: charset-normalizer<4,>=2 in /usr/local/lib/python3.11/dist-packages (from requests<3.0,>=2.7->posthog>=3.5.0->mem0ai) (3.4.2)\n",
            "Requirement already satisfied: hyperframe<7,>=6.1 in /usr/local/lib/python3.11/dist-packages (from h2<5,>=3->httpx[http2]>=0.20.0->qdrant-client>=1.9.1->mem0ai) (6.1.0)\n",
            "Requirement already satisfied: hpack<5,>=4.1 in /usr/local/lib/python3.11/dist-packages (from h2<5,>=3->httpx[http2]>=0.20.0->qdrant-client>=1.9.1->mem0ai) (4.1.0)\n"
          ]
        }
      ]
    },
    {
      "cell_type": "code",
      "source": [
        "from agno.agent import Agent\n",
        "from mem0 import MemoryClient\n",
        "from transformers import pipeline\n",
        "\n",
        "# Initialize the Mem0 memory client with API key\n",
        "memory = MemoryClient(api_key=\"Mem0-API-KEY\")\n",
        "\n",
        "# Load a lightweight language model for text generation\n",
        "llm = pipeline(\"text-generation\", model=\"distilgpt2\")\n",
        "\n",
        "# Agent for storing user input into Mem0 memory\n",
        "class UpdateAgent(Agent):\n",
        "    def run(self, input_text):\n",
        "        memory.add(messages=[{\"role\": \"user\", \"content\": input_text}], user_id=\"user123\")# Static user ID for this demo\n",
        "        return \" Data stored successfully.\"\n",
        "\n",
        "# Agent for retrieving most relevant memory from Mem0\n",
        "class RetrievalAgent(Agent):\n",
        "    def run(self, query):\n",
        "        results = memory.search(query=query, user_id=\"user123\", limit=1)\n",
        "        if results:\n",
        "            return f\" Memory found: {results[0]['memory']}\"\n",
        "        return \" No relevant memory found.\"\n",
        "\n",
        "# Agent demonstrating agent chaining logic\n",
        "class ChainedAgent(Agent):\n",
        "    def run(self, query):\n",
        "        result = retrieval_agent.run(query)\n",
        "        return f\" Agent chain output:\\n→ Retrieved: {result}\\n→ Final decision: Log complete.\"\n",
        "\n",
        "# Smart agent using both memory context and LLM to generate enhanced answers\n",
        "class SmartRetrievalAgent(Agent):\n",
        "    def run(self, query):\n",
        "        results = memory.search(query=query, user_id=\"user123\", limit=1)\n",
        "        if results:\n",
        "            context = results[0]['memory']\n",
        "            # Prompt engineering: ask the LLM using context\n",
        "            response = llm(f\"Q: {query} | Context: {context}\", max_new_tokens=50)\n",
        "            return f\" Smart answer: {response[0]['generated_text'].strip()}\"\n",
        "        return \" No smart answer found.\"\n",
        "\n",
        "# Agent instances\n",
        "update_agent = UpdateAgent(name=\"UpdateAgent\")\n",
        "retrieval_agent = RetrievalAgent(name=\"RetrievalAgent\")\n",
        "chained_agent = ChainedAgent(name=\"ChainedAgent\")\n",
        "smart_agent = SmartRetrievalAgent(name=\"SmartRetrievalAgent\")\n",
        "\n",
        "#  CLI Loop\n",
        "print(\"===  Mem0 + Agno Interactive Agent ===\")\n",
        "print(\"Commands: 'store', 'ask', 'smart', or 'exit'\")\n",
        "\n",
        "while True:\n",
        "    cmd = input(\"\\nCommand: \").strip().lower()\n",
        "\n",
        "    if cmd == \"store\":\n",
        "        content = input(\" What should I remember? \")\n",
        "        print(update_agent.run(content))\n",
        "\n",
        "    elif cmd == \"ask\":\n",
        "        query = input(\" Ask something: \")\n",
        "        print(retrieval_agent.run(query))\n",
        "\n",
        "    elif cmd == \"smart\":\n",
        "        query = input(\" Ask something and get a smart LLM response: \")\n",
        "        print(smart_agent.run(query))\n",
        "\n",
        "    elif cmd == \"exit\":\n",
        "        print(\" Exiting.\")\n",
        "        break\n",
        "\n",
        "    else:\n",
        "      # validation for unsupported commands\n",
        "        print(\"---- Unknown command. Use 'store', 'ask', 'smart', or 'exit'.\")\n"
      ],
      "metadata": {
        "colab": {
          "base_uri": "https://localhost:8080/"
        },
        "id": "CA0fb1z30izr",
        "outputId": "f161bb0c-2d6f-497c-9059-655e38b8ae8b"
      },
      "execution_count": 34,
      "outputs": [
        {
          "output_type": "stream",
          "name": "stderr",
          "text": [
            "Device set to use cpu\n"
          ]
        },
        {
          "name": "stdout",
          "output_type": "stream",
          "text": [
            "===  Mem0 + Agno Interactive Agent ===\n",
            "Commands: 'store', 'ask', 'smart', or 'exit'\n",
            "\n",
            "Command: store\n",
            " What should I remember? i have a meeting tomorrow at 2.30p.m. and also have a coursework submission at 12.00 a.m. on day after tomorrow sunday\n",
            " Data stored successfully.\n",
            "\n",
            "Command: ask\n",
            " Ask something: when is my meeting?\n",
            " Memory found: Has a meeting tomorrow at 2:30 p.m.\n",
            "\n",
            "Command: smart\n",
            " Ask something and get a smart LLM response: do i have anything related to my academics?\n"
          ]
        },
        {
          "output_type": "stream",
          "name": "stderr",
          "text": [
            "Setting `pad_token_id` to `eos_token_id`:50256 for open-end generation.\n"
          ]
        },
        {
          "output_type": "stream",
          "name": "stdout",
          "text": [
            " Smart answer: Q: do i have anything related to my academics? | Context: Has a coursework submission at 12:00 a.m. day after tomorrow Sunday? | Context: Will the day be marked as a \"no\" or \"yes\" during this week's post? What do you think of this post? | Context: Has a postwork submission at 11:00 a.m. day after\n",
            "\n",
            "Command: exit\n",
            " Exiting.\n"
          ]
        }
      ]
    }
  ]
}